{
 "cells": [
  {
   "cell_type": "code",
   "execution_count": 3,
   "id": "c1a83546-9ba3-45d6-98b6-996b3628c74d",
   "metadata": {},
   "outputs": [],
   "source": [
    "import pandas as pd\n",
    "import numpy as np\n",
    "import requests, bs4\n",
    "import re, os\n",
    "import matplotlib.pyplot as plt\n",
    "import statsapi\n",
    "pd.options.display.max_columns = 999\n",
    "import tweepy\n",
    "import datetime\n",
    "import time\n",
    "from datetime import date"
   ]
  },
  {
   "cell_type": "code",
   "execution_count": 2,
   "id": "82674353-74b8-4130-9847-52ef4fe28a24",
   "metadata": {},
   "outputs": [],
   "source": [
    "consumer_key = ''\n",
    "consumer_secret = ''\n",
    "access_token = ''\n",
    "access_token_secret = ''\n",
    "\n",
    "\n",
    "\n",
    "auth = tweepy.OAuthHandler(consumer_key, consumer_secret)\n",
    "auth.set_access_token(access_token, access_token_secret)\n",
    "api = tweepy.API(auth)"
   ]
  },
  {
   "cell_type": "code",
   "execution_count": null,
   "id": "40b1639d-1329-4828-8a1d-d4fcc45e95ed",
   "metadata": {},
   "outputs": [],
   "source": [
    "# current profile = \"Who's on the hunt to catch Joe Dimaggio's record of 56 consecutive games with a hit?  This account tracks all active MLB Hit Streaks greater than 5 games\""
   ]
  },
  {
   "cell_type": "code",
   "execution_count": 3,
   "id": "3f8de3dc-fcb6-42b4-95d2-9558c62f7d6f",
   "metadata": {},
   "outputs": [
    {
     "data": {
      "text/plain": [
       "'2022-07-27T02:10:00Z'"
      ]
     },
     "execution_count": 3,
     "metadata": {},
     "output_type": "execute_result"
    }
   ],
   "source": [
    "today_schedule = statsapi.schedule()\n",
    "today_schedule[-1]['game_datetime']"
   ]
  },
  {
   "cell_type": "code",
   "execution_count": 5,
   "id": "1e8a1a38-7c76-413d-b808-1d58df015851",
   "metadata": {},
   "outputs": [],
   "source": [
    "# current hour\n",
    "current_hour = datetime.datetime.now().hour\n",
    "\n",
    "# grab time of last game today and convert to \"datetime\" format\n",
    "last_game_time = pd.to_datetime(today_schedule[-1]['game_datetime'])\n",
    "\n",
    "# converting from UTC to local time (PST)\n",
    "last_game_time_converted = last_game_time.tz_convert('US/Pacific')\n",
    "\n",
    "# Add four hours to the start-hour of the last game of the day\n",
    "last_hour_plus_4 = last_game_time_converted.hour + 4 "
   ]
  },
  {
   "cell_type": "code",
   "execution_count": 10,
   "id": "4124cc9d-24dd-410d-913a-f0c211110004",
   "metadata": {},
   "outputs": [
    {
     "data": {
      "text/plain": [
       "19"
      ]
     },
     "execution_count": 10,
     "metadata": {},
     "output_type": "execute_result"
    }
   ],
   "source": [
    "last_game_time_converted.hour"
   ]
  },
  {
   "cell_type": "code",
   "execution_count": 6,
   "id": "647a320f-e36c-4afa-bfcf-8236f395009f",
   "metadata": {
    "collapsed": true,
    "jupyter": {
     "outputs_hidden": true
    },
    "tags": []
   },
   "outputs": [
    {
     "data": {
      "text/plain": [
       "Status(_api=<tweepy.api.API object at 0x000001DA5EAFBA00>, _json={'created_at': 'Tue Jul 26 21:30:11 +0000 2022', 'id': 1552043627479572480, 'id_str': '1552043627479572480', 'text': 'TEST TWEET - 1⃣', 'truncated': False, 'entities': {'hashtags': [], 'symbols': [], 'user_mentions': [], 'urls': []}, 'source': '<a href=\"https://github.com/aothree/Dimaggio_Tracker\" rel=\"nofollow\">Dimaggio Tracker</a>', 'in_reply_to_status_id': None, 'in_reply_to_status_id_str': None, 'in_reply_to_user_id': None, 'in_reply_to_user_id_str': None, 'in_reply_to_screen_name': None, 'user': {'id': 1545772813994250240, 'id_str': '1545772813994250240', 'name': 'DiMaggio Tracker', 'screen_name': 'DiMaggioTracker', 'location': 'Martinez, CA', 'description': \"Who's on the hunt to catch Joe Dimaggio's record of 56 consecutive games with a hit?  This account tracks all active MLB Hit Streaks greater than 5 games\", 'url': None, 'entities': {'description': {'urls': []}}, 'protected': False, 'followers_count': 10, 'friends_count': 0, 'listed_count': 0, 'created_at': 'Sat Jul 09 14:12:41 +0000 2022', 'favourites_count': 0, 'utc_offset': None, 'time_zone': None, 'geo_enabled': False, 'verified': False, 'statuses_count': 129, 'lang': None, 'contributors_enabled': False, 'is_translator': False, 'is_translation_enabled': False, 'profile_background_color': 'F5F8FA', 'profile_background_image_url': None, 'profile_background_image_url_https': None, 'profile_background_tile': False, 'profile_image_url': 'http://pbs.twimg.com/profile_images/1545773825714925568/cdFKXQQ6_normal.jpg', 'profile_image_url_https': 'https://pbs.twimg.com/profile_images/1545773825714925568/cdFKXQQ6_normal.jpg', 'profile_banner_url': 'https://pbs.twimg.com/profile_banners/1545772813994250240/1657397486', 'profile_link_color': '1DA1F2', 'profile_sidebar_border_color': 'C0DEED', 'profile_sidebar_fill_color': 'DDEEF6', 'profile_text_color': '333333', 'profile_use_background_image': True, 'has_extended_profile': True, 'default_profile': True, 'default_profile_image': False, 'following': False, 'follow_request_sent': False, 'notifications': False, 'translator_type': 'none', 'withheld_in_countries': []}, 'geo': None, 'coordinates': None, 'place': None, 'contributors': None, 'is_quote_status': False, 'retweet_count': 0, 'favorite_count': 0, 'favorited': False, 'retweeted': False, 'lang': 'en'}, created_at=datetime.datetime(2022, 7, 26, 21, 30, 11, tzinfo=datetime.timezone.utc), id=1552043627479572480, id_str='1552043627479572480', text='TEST TWEET - 1⃣', truncated=False, entities={'hashtags': [], 'symbols': [], 'user_mentions': [], 'urls': []}, source='Dimaggio Tracker', source_url='https://github.com/aothree/Dimaggio_Tracker', in_reply_to_status_id=None, in_reply_to_status_id_str=None, in_reply_to_user_id=None, in_reply_to_user_id_str=None, in_reply_to_screen_name=None, author=User(_api=<tweepy.api.API object at 0x000001DA5EAFBA00>, _json={'id': 1545772813994250240, 'id_str': '1545772813994250240', 'name': 'DiMaggio Tracker', 'screen_name': 'DiMaggioTracker', 'location': 'Martinez, CA', 'description': \"Who's on the hunt to catch Joe Dimaggio's record of 56 consecutive games with a hit?  This account tracks all active MLB Hit Streaks greater than 5 games\", 'url': None, 'entities': {'description': {'urls': []}}, 'protected': False, 'followers_count': 10, 'friends_count': 0, 'listed_count': 0, 'created_at': 'Sat Jul 09 14:12:41 +0000 2022', 'favourites_count': 0, 'utc_offset': None, 'time_zone': None, 'geo_enabled': False, 'verified': False, 'statuses_count': 129, 'lang': None, 'contributors_enabled': False, 'is_translator': False, 'is_translation_enabled': False, 'profile_background_color': 'F5F8FA', 'profile_background_image_url': None, 'profile_background_image_url_https': None, 'profile_background_tile': False, 'profile_image_url': 'http://pbs.twimg.com/profile_images/1545773825714925568/cdFKXQQ6_normal.jpg', 'profile_image_url_https': 'https://pbs.twimg.com/profile_images/1545773825714925568/cdFKXQQ6_normal.jpg', 'profile_banner_url': 'https://pbs.twimg.com/profile_banners/1545772813994250240/1657397486', 'profile_link_color': '1DA1F2', 'profile_sidebar_border_color': 'C0DEED', 'profile_sidebar_fill_color': 'DDEEF6', 'profile_text_color': '333333', 'profile_use_background_image': True, 'has_extended_profile': True, 'default_profile': True, 'default_profile_image': False, 'following': False, 'follow_request_sent': False, 'notifications': False, 'translator_type': 'none', 'withheld_in_countries': []}, id=1545772813994250240, id_str='1545772813994250240', name='DiMaggio Tracker', screen_name='DiMaggioTracker', location='Martinez, CA', description=\"Who's on the hunt to catch Joe Dimaggio's record of 56 consecutive games with a hit?  This account tracks all active MLB Hit Streaks greater than 5 games\", url=None, entities={'description': {'urls': []}}, protected=False, followers_count=10, friends_count=0, listed_count=0, created_at=datetime.datetime(2022, 7, 9, 14, 12, 41, tzinfo=datetime.timezone.utc), favourites_count=0, utc_offset=None, time_zone=None, geo_enabled=False, verified=False, statuses_count=129, lang=None, contributors_enabled=False, is_translator=False, is_translation_enabled=False, profile_background_color='F5F8FA', profile_background_image_url=None, profile_background_image_url_https=None, profile_background_tile=False, profile_image_url='http://pbs.twimg.com/profile_images/1545773825714925568/cdFKXQQ6_normal.jpg', profile_image_url_https='https://pbs.twimg.com/profile_images/1545773825714925568/cdFKXQQ6_normal.jpg', profile_banner_url='https://pbs.twimg.com/profile_banners/1545772813994250240/1657397486', profile_link_color='1DA1F2', profile_sidebar_border_color='C0DEED', profile_sidebar_fill_color='DDEEF6', profile_text_color='333333', profile_use_background_image=True, has_extended_profile=True, default_profile=True, default_profile_image=False, following=False, follow_request_sent=False, notifications=False, translator_type='none', withheld_in_countries=[]), user=User(_api=<tweepy.api.API object at 0x000001DA5EAFBA00>, _json={'id': 1545772813994250240, 'id_str': '1545772813994250240', 'name': 'DiMaggio Tracker', 'screen_name': 'DiMaggioTracker', 'location': 'Martinez, CA', 'description': \"Who's on the hunt to catch Joe Dimaggio's record of 56 consecutive games with a hit?  This account tracks all active MLB Hit Streaks greater than 5 games\", 'url': None, 'entities': {'description': {'urls': []}}, 'protected': False, 'followers_count': 10, 'friends_count': 0, 'listed_count': 0, 'created_at': 'Sat Jul 09 14:12:41 +0000 2022', 'favourites_count': 0, 'utc_offset': None, 'time_zone': None, 'geo_enabled': False, 'verified': False, 'statuses_count': 129, 'lang': None, 'contributors_enabled': False, 'is_translator': False, 'is_translation_enabled': False, 'profile_background_color': 'F5F8FA', 'profile_background_image_url': None, 'profile_background_image_url_https': None, 'profile_background_tile': False, 'profile_image_url': 'http://pbs.twimg.com/profile_images/1545773825714925568/cdFKXQQ6_normal.jpg', 'profile_image_url_https': 'https://pbs.twimg.com/profile_images/1545773825714925568/cdFKXQQ6_normal.jpg', 'profile_banner_url': 'https://pbs.twimg.com/profile_banners/1545772813994250240/1657397486', 'profile_link_color': '1DA1F2', 'profile_sidebar_border_color': 'C0DEED', 'profile_sidebar_fill_color': 'DDEEF6', 'profile_text_color': '333333', 'profile_use_background_image': True, 'has_extended_profile': True, 'default_profile': True, 'default_profile_image': False, 'following': False, 'follow_request_sent': False, 'notifications': False, 'translator_type': 'none', 'withheld_in_countries': []}, id=1545772813994250240, id_str='1545772813994250240', name='DiMaggio Tracker', screen_name='DiMaggioTracker', location='Martinez, CA', description=\"Who's on the hunt to catch Joe Dimaggio's record of 56 consecutive games with a hit?  This account tracks all active MLB Hit Streaks greater than 5 games\", url=None, entities={'description': {'urls': []}}, protected=False, followers_count=10, friends_count=0, listed_count=0, created_at=datetime.datetime(2022, 7, 9, 14, 12, 41, tzinfo=datetime.timezone.utc), favourites_count=0, utc_offset=None, time_zone=None, geo_enabled=False, verified=False, statuses_count=129, lang=None, contributors_enabled=False, is_translator=False, is_translation_enabled=False, profile_background_color='F5F8FA', profile_background_image_url=None, profile_background_image_url_https=None, profile_background_tile=False, profile_image_url='http://pbs.twimg.com/profile_images/1545773825714925568/cdFKXQQ6_normal.jpg', profile_image_url_https='https://pbs.twimg.com/profile_images/1545773825714925568/cdFKXQQ6_normal.jpg', profile_banner_url='https://pbs.twimg.com/profile_banners/1545772813994250240/1657397486', profile_link_color='1DA1F2', profile_sidebar_border_color='C0DEED', profile_sidebar_fill_color='DDEEF6', profile_text_color='333333', profile_use_background_image=True, has_extended_profile=True, default_profile=True, default_profile_image=False, following=False, follow_request_sent=False, notifications=False, translator_type='none', withheld_in_countries=[]), geo=None, coordinates=None, place=None, contributors=None, is_quote_status=False, retweet_count=0, favorite_count=0, favorited=False, retweeted=False, lang='en')"
      ]
     },
     "execution_count": 6,
     "metadata": {},
     "output_type": "execute_result"
    }
   ],
   "source": [
    "# set emoji to test\n",
    "#emoji = '\\U00000031\\U000020E3'\n",
    "api.update_status()"
   ]
  },
  {
   "cell_type": "code",
   "execution_count": 3,
   "id": "2fd934ca-f8a6-4d2d-af2a-fdae93677c85",
   "metadata": {},
   "outputs": [
    {
     "data": {
      "text/plain": [
       "Status(_api=<tweepy.api.API object at 0x00000249867D9FA0>, _json={'created_at': 'Tue Jul 26 23:20:54 +0000 2022', 'id': 1552071493118410753, 'id_str': '1552071493118410753', 'text': 'test video with audio https://t.co/xv2UeBlmkp', 'truncated': False, 'entities': {'hashtags': [], 'symbols': [], 'user_mentions': [], 'urls': [], 'media': [{'id': 1552071486197837825, 'id_str': '1552071486197837825', 'indices': [22, 45], 'media_url': 'http://pbs.twimg.com/ext_tw_video_thumb/1552071486197837825/pu/img/rkuErubh_4rY98lw.jpg', 'media_url_https': 'https://pbs.twimg.com/ext_tw_video_thumb/1552071486197837825/pu/img/rkuErubh_4rY98lw.jpg', 'url': 'https://t.co/xv2UeBlmkp', 'display_url': 'pic.twitter.com/xv2UeBlmkp', 'expanded_url': 'https://twitter.com/DiMaggioTracker/status/1552071493118410753/video/1', 'type': 'photo', 'sizes': {'thumb': {'w': 150, 'h': 150, 'resize': 'crop'}, 'large': {'w': 640, 'h': 360, 'resize': 'fit'}, 'medium': {'w': 640, 'h': 360, 'resize': 'fit'}, 'small': {'w': 640, 'h': 360, 'resize': 'fit'}}}]}, 'extended_entities': {'media': [{'id': 1552071486197837825, 'id_str': '1552071486197837825', 'indices': [22, 45], 'media_url': 'http://pbs.twimg.com/ext_tw_video_thumb/1552071486197837825/pu/img/rkuErubh_4rY98lw.jpg', 'media_url_https': 'https://pbs.twimg.com/ext_tw_video_thumb/1552071486197837825/pu/img/rkuErubh_4rY98lw.jpg', 'url': 'https://t.co/xv2UeBlmkp', 'display_url': 'pic.twitter.com/xv2UeBlmkp', 'expanded_url': 'https://twitter.com/DiMaggioTracker/status/1552071493118410753/video/1', 'type': 'video', 'sizes': {'thumb': {'w': 150, 'h': 150, 'resize': 'crop'}, 'large': {'w': 640, 'h': 360, 'resize': 'fit'}, 'medium': {'w': 640, 'h': 360, 'resize': 'fit'}, 'small': {'w': 640, 'h': 360, 'resize': 'fit'}}, 'video_info': {'aspect_ratio': [16, 9], 'duration_millis': 7012, 'variants': [{'bitrate': 256000, 'content_type': 'video/mp4', 'url': 'https://video.twimg.com/ext_tw_video/1552071486197837825/pu/vid/320x180/iCaoMX-iFoRlpwGx.mp4?tag=1'}, {'bitrate': 832000, 'content_type': 'video/mp4', 'url': 'https://video.twimg.com/ext_tw_video/1552071486197837825/pu/vid/640x360/LNzeZwTer8ru-x8T.mp4?tag=1'}, {'content_type': 'application/x-mpegURL', 'url': 'https://video.twimg.com/ext_tw_video/1552071486197837825/pu/pl/S3zxIsGWGomy_gpK.m3u8?tag=1'}]}, 'additional_media_info': {'monetizable': False}}]}, 'source': '<a href=\"https://github.com/aothree/Dimaggio_Tracker\" rel=\"nofollow\">Dimaggio Tracker</a>', 'in_reply_to_status_id': None, 'in_reply_to_status_id_str': None, 'in_reply_to_user_id': None, 'in_reply_to_user_id_str': None, 'in_reply_to_screen_name': None, 'user': {'id': 1545772813994250240, 'id_str': '1545772813994250240', 'name': 'DiMaggio Tracker', 'screen_name': 'DiMaggioTracker', 'location': 'Martinez, CA', 'description': \"Who's on the hunt to catch Joe Dimaggio's record of 56 consecutive games with a hit?  This account tracks all active MLB Hit Streaks greater than 5 games\", 'url': None, 'entities': {'description': {'urls': []}}, 'protected': False, 'followers_count': 10, 'friends_count': 0, 'listed_count': 0, 'created_at': 'Sat Jul 09 14:12:41 +0000 2022', 'favourites_count': 0, 'utc_offset': None, 'time_zone': None, 'geo_enabled': False, 'verified': False, 'statuses_count': 128, 'lang': None, 'contributors_enabled': False, 'is_translator': False, 'is_translation_enabled': False, 'profile_background_color': 'F5F8FA', 'profile_background_image_url': None, 'profile_background_image_url_https': None, 'profile_background_tile': False, 'profile_image_url': 'http://pbs.twimg.com/profile_images/1545773825714925568/cdFKXQQ6_normal.jpg', 'profile_image_url_https': 'https://pbs.twimg.com/profile_images/1545773825714925568/cdFKXQQ6_normal.jpg', 'profile_banner_url': 'https://pbs.twimg.com/profile_banners/1545772813994250240/1657397486', 'profile_link_color': '1DA1F2', 'profile_sidebar_border_color': 'C0DEED', 'profile_sidebar_fill_color': 'DDEEF6', 'profile_text_color': '333333', 'profile_use_background_image': True, 'has_extended_profile': True, 'default_profile': True, 'default_profile_image': False, 'following': False, 'follow_request_sent': False, 'notifications': False, 'translator_type': 'none', 'withheld_in_countries': []}, 'geo': None, 'coordinates': None, 'place': None, 'contributors': None, 'is_quote_status': False, 'retweet_count': 0, 'favorite_count': 0, 'favorited': False, 'retweeted': False, 'possibly_sensitive': False, 'lang': 'en'}, created_at=datetime.datetime(2022, 7, 26, 23, 20, 54, tzinfo=datetime.timezone.utc), id=1552071493118410753, id_str='1552071493118410753', text='test video with audio https://t.co/xv2UeBlmkp', truncated=False, entities={'hashtags': [], 'symbols': [], 'user_mentions': [], 'urls': [], 'media': [{'id': 1552071486197837825, 'id_str': '1552071486197837825', 'indices': [22, 45], 'media_url': 'http://pbs.twimg.com/ext_tw_video_thumb/1552071486197837825/pu/img/rkuErubh_4rY98lw.jpg', 'media_url_https': 'https://pbs.twimg.com/ext_tw_video_thumb/1552071486197837825/pu/img/rkuErubh_4rY98lw.jpg', 'url': 'https://t.co/xv2UeBlmkp', 'display_url': 'pic.twitter.com/xv2UeBlmkp', 'expanded_url': 'https://twitter.com/DiMaggioTracker/status/1552071493118410753/video/1', 'type': 'photo', 'sizes': {'thumb': {'w': 150, 'h': 150, 'resize': 'crop'}, 'large': {'w': 640, 'h': 360, 'resize': 'fit'}, 'medium': {'w': 640, 'h': 360, 'resize': 'fit'}, 'small': {'w': 640, 'h': 360, 'resize': 'fit'}}}]}, extended_entities={'media': [{'id': 1552071486197837825, 'id_str': '1552071486197837825', 'indices': [22, 45], 'media_url': 'http://pbs.twimg.com/ext_tw_video_thumb/1552071486197837825/pu/img/rkuErubh_4rY98lw.jpg', 'media_url_https': 'https://pbs.twimg.com/ext_tw_video_thumb/1552071486197837825/pu/img/rkuErubh_4rY98lw.jpg', 'url': 'https://t.co/xv2UeBlmkp', 'display_url': 'pic.twitter.com/xv2UeBlmkp', 'expanded_url': 'https://twitter.com/DiMaggioTracker/status/1552071493118410753/video/1', 'type': 'video', 'sizes': {'thumb': {'w': 150, 'h': 150, 'resize': 'crop'}, 'large': {'w': 640, 'h': 360, 'resize': 'fit'}, 'medium': {'w': 640, 'h': 360, 'resize': 'fit'}, 'small': {'w': 640, 'h': 360, 'resize': 'fit'}}, 'video_info': {'aspect_ratio': [16, 9], 'duration_millis': 7012, 'variants': [{'bitrate': 256000, 'content_type': 'video/mp4', 'url': 'https://video.twimg.com/ext_tw_video/1552071486197837825/pu/vid/320x180/iCaoMX-iFoRlpwGx.mp4?tag=1'}, {'bitrate': 832000, 'content_type': 'video/mp4', 'url': 'https://video.twimg.com/ext_tw_video/1552071486197837825/pu/vid/640x360/LNzeZwTer8ru-x8T.mp4?tag=1'}, {'content_type': 'application/x-mpegURL', 'url': 'https://video.twimg.com/ext_tw_video/1552071486197837825/pu/pl/S3zxIsGWGomy_gpK.m3u8?tag=1'}]}, 'additional_media_info': {'monetizable': False}}]}, source='Dimaggio Tracker', source_url='https://github.com/aothree/Dimaggio_Tracker', in_reply_to_status_id=None, in_reply_to_status_id_str=None, in_reply_to_user_id=None, in_reply_to_user_id_str=None, in_reply_to_screen_name=None, author=User(_api=<tweepy.api.API object at 0x00000249867D9FA0>, _json={'id': 1545772813994250240, 'id_str': '1545772813994250240', 'name': 'DiMaggio Tracker', 'screen_name': 'DiMaggioTracker', 'location': 'Martinez, CA', 'description': \"Who's on the hunt to catch Joe Dimaggio's record of 56 consecutive games with a hit?  This account tracks all active MLB Hit Streaks greater than 5 games\", 'url': None, 'entities': {'description': {'urls': []}}, 'protected': False, 'followers_count': 10, 'friends_count': 0, 'listed_count': 0, 'created_at': 'Sat Jul 09 14:12:41 +0000 2022', 'favourites_count': 0, 'utc_offset': None, 'time_zone': None, 'geo_enabled': False, 'verified': False, 'statuses_count': 128, 'lang': None, 'contributors_enabled': False, 'is_translator': False, 'is_translation_enabled': False, 'profile_background_color': 'F5F8FA', 'profile_background_image_url': None, 'profile_background_image_url_https': None, 'profile_background_tile': False, 'profile_image_url': 'http://pbs.twimg.com/profile_images/1545773825714925568/cdFKXQQ6_normal.jpg', 'profile_image_url_https': 'https://pbs.twimg.com/profile_images/1545773825714925568/cdFKXQQ6_normal.jpg', 'profile_banner_url': 'https://pbs.twimg.com/profile_banners/1545772813994250240/1657397486', 'profile_link_color': '1DA1F2', 'profile_sidebar_border_color': 'C0DEED', 'profile_sidebar_fill_color': 'DDEEF6', 'profile_text_color': '333333', 'profile_use_background_image': True, 'has_extended_profile': True, 'default_profile': True, 'default_profile_image': False, 'following': False, 'follow_request_sent': False, 'notifications': False, 'translator_type': 'none', 'withheld_in_countries': []}, id=1545772813994250240, id_str='1545772813994250240', name='DiMaggio Tracker', screen_name='DiMaggioTracker', location='Martinez, CA', description=\"Who's on the hunt to catch Joe Dimaggio's record of 56 consecutive games with a hit?  This account tracks all active MLB Hit Streaks greater than 5 games\", url=None, entities={'description': {'urls': []}}, protected=False, followers_count=10, friends_count=0, listed_count=0, created_at=datetime.datetime(2022, 7, 9, 14, 12, 41, tzinfo=datetime.timezone.utc), favourites_count=0, utc_offset=None, time_zone=None, geo_enabled=False, verified=False, statuses_count=128, lang=None, contributors_enabled=False, is_translator=False, is_translation_enabled=False, profile_background_color='F5F8FA', profile_background_image_url=None, profile_background_image_url_https=None, profile_background_tile=False, profile_image_url='http://pbs.twimg.com/profile_images/1545773825714925568/cdFKXQQ6_normal.jpg', profile_image_url_https='https://pbs.twimg.com/profile_images/1545773825714925568/cdFKXQQ6_normal.jpg', profile_banner_url='https://pbs.twimg.com/profile_banners/1545772813994250240/1657397486', profile_link_color='1DA1F2', profile_sidebar_border_color='C0DEED', profile_sidebar_fill_color='DDEEF6', profile_text_color='333333', profile_use_background_image=True, has_extended_profile=True, default_profile=True, default_profile_image=False, following=False, follow_request_sent=False, notifications=False, translator_type='none', withheld_in_countries=[]), user=User(_api=<tweepy.api.API object at 0x00000249867D9FA0>, _json={'id': 1545772813994250240, 'id_str': '1545772813994250240', 'name': 'DiMaggio Tracker', 'screen_name': 'DiMaggioTracker', 'location': 'Martinez, CA', 'description': \"Who's on the hunt to catch Joe Dimaggio's record of 56 consecutive games with a hit?  This account tracks all active MLB Hit Streaks greater than 5 games\", 'url': None, 'entities': {'description': {'urls': []}}, 'protected': False, 'followers_count': 10, 'friends_count': 0, 'listed_count': 0, 'created_at': 'Sat Jul 09 14:12:41 +0000 2022', 'favourites_count': 0, 'utc_offset': None, 'time_zone': None, 'geo_enabled': False, 'verified': False, 'statuses_count': 128, 'lang': None, 'contributors_enabled': False, 'is_translator': False, 'is_translation_enabled': False, 'profile_background_color': 'F5F8FA', 'profile_background_image_url': None, 'profile_background_image_url_https': None, 'profile_background_tile': False, 'profile_image_url': 'http://pbs.twimg.com/profile_images/1545773825714925568/cdFKXQQ6_normal.jpg', 'profile_image_url_https': 'https://pbs.twimg.com/profile_images/1545773825714925568/cdFKXQQ6_normal.jpg', 'profile_banner_url': 'https://pbs.twimg.com/profile_banners/1545772813994250240/1657397486', 'profile_link_color': '1DA1F2', 'profile_sidebar_border_color': 'C0DEED', 'profile_sidebar_fill_color': 'DDEEF6', 'profile_text_color': '333333', 'profile_use_background_image': True, 'has_extended_profile': True, 'default_profile': True, 'default_profile_image': False, 'following': False, 'follow_request_sent': False, 'notifications': False, 'translator_type': 'none', 'withheld_in_countries': []}, id=1545772813994250240, id_str='1545772813994250240', name='DiMaggio Tracker', screen_name='DiMaggioTracker', location='Martinez, CA', description=\"Who's on the hunt to catch Joe Dimaggio's record of 56 consecutive games with a hit?  This account tracks all active MLB Hit Streaks greater than 5 games\", url=None, entities={'description': {'urls': []}}, protected=False, followers_count=10, friends_count=0, listed_count=0, created_at=datetime.datetime(2022, 7, 9, 14, 12, 41, tzinfo=datetime.timezone.utc), favourites_count=0, utc_offset=None, time_zone=None, geo_enabled=False, verified=False, statuses_count=128, lang=None, contributors_enabled=False, is_translator=False, is_translation_enabled=False, profile_background_color='F5F8FA', profile_background_image_url=None, profile_background_image_url_https=None, profile_background_tile=False, profile_image_url='http://pbs.twimg.com/profile_images/1545773825714925568/cdFKXQQ6_normal.jpg', profile_image_url_https='https://pbs.twimg.com/profile_images/1545773825714925568/cdFKXQQ6_normal.jpg', profile_banner_url='https://pbs.twimg.com/profile_banners/1545772813994250240/1657397486', profile_link_color='1DA1F2', profile_sidebar_border_color='C0DEED', profile_sidebar_fill_color='DDEEF6', profile_text_color='333333', profile_use_background_image=True, has_extended_profile=True, default_profile=True, default_profile_image=False, following=False, follow_request_sent=False, notifications=False, translator_type='none', withheld_in_countries=[]), geo=None, coordinates=None, place=None, contributors=None, is_quote_status=False, retweet_count=0, favorite_count=0, favorited=False, retweeted=False, possibly_sensitive=False, lang='en')"
      ]
     },
     "execution_count": 3,
     "metadata": {},
     "output_type": "execute_result"
    }
   ],
   "source": [
    "upload_result = api.media_upload(r'C:\\Users\\aorfa\\Downloads\\utah_two.mp4')\n",
    "text = 'test video with audio'\n",
    "api.update_status(status = text, media_ids = [upload_result.media_id_string])"
   ]
  },
  {
   "cell_type": "code",
   "execution_count": 8,
   "id": "d211f2de-4dfa-4646-ae8f-eeb93a616318",
   "metadata": {},
   "outputs": [
    {
     "data": {
      "text/plain": [
       "'08'"
      ]
     },
     "execution_count": 8,
     "metadata": {},
     "output_type": "execute_result"
    }
   ],
   "source": [
    "str(date.today())[5:7]"
   ]
  },
  {
   "cell_type": "code",
   "execution_count": null,
   "id": "d97015d4-e97b-479e-a536-89a2d5ff6bea",
   "metadata": {},
   "outputs": [],
   "source": []
  }
 ],
 "metadata": {
  "kernelspec": {
   "display_name": "Python 3 (ipykernel)",
   "language": "python",
   "name": "python3"
  },
  "language_info": {
   "codemirror_mode": {
    "name": "ipython",
    "version": 3
   },
   "file_extension": ".py",
   "mimetype": "text/x-python",
   "name": "python",
   "nbconvert_exporter": "python",
   "pygments_lexer": "ipython3",
   "version": "3.9.7"
  }
 },
 "nbformat": 4,
 "nbformat_minor": 5
}
